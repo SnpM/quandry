{
 "cells": [
  {
   "cell_type": "markdown",
   "metadata": {},
   "source": [
    "# Quandry Guide\n",
    "\n",
    "Short guide to get you started with using the Quandry backend package.\n",
    "\n",
    "## Setup and Installation\n",
    "\n",
    "Build package from root project directory with setuptools."
   ]
  },
  {
   "cell_type": "code",
   "execution_count": 1,
   "metadata": {},
   "outputs": [],
   "source": [
    "%%capture\n",
    "# Install setuptools\n",
    "!python -m pip install setuptools -q\n",
    "\n",
    "# Build the package using setuptools\n",
    "!python -m build ."
   ]
  },
  {
   "cell_type": "markdown",
   "metadata": {},
   "source": [
    "Install the package."
   ]
  },
  {
   "cell_type": "code",
   "execution_count": 2,
   "metadata": {},
   "outputs": [
    {
     "name": "stdout",
     "output_type": "stream",
     "text": [
      "dist/quandry-2024.0.0.dev0-py3-none-any.whl\n",
      "Note: you may need to restart the kernel to use updated packages.\n"
     ]
    }
   ],
   "source": [
    "%ls dist/*.whl\n",
    "\n",
    "# Change the file name to the .whl file you wish to install\n",
    "%pip install -q dist/quandry-2024.0.0.dev0-py3-none-any.whl"
   ]
  },
  {
   "cell_type": "markdown",
   "metadata": {},
   "source": [
    "## Quickstart\n",
    "\n",
    "### Load OpenAI key\n",
    "\n",
    "Get an API key from https://platform.openai.com/api-keys.\n",
    "\n",
    "Insert this key into keys.py in the project root.\n",
    "\n",
    "### Import dependencies\n",
    "The root `quandry` namespace contains a bunch of classes you need to craft expectation tests.\n",
    "\n",
    "`quandry.evaluators.Llmclassifier` is an LLM binary classifier implementation using OpenAI.\n",
    "\n",
    "`quandry.subjects.VanillaChatGPT` is a test subject targetting a vanilla gpt-4o-mini model."
   ]
  },
  {
   "cell_type": "code",
   "execution_count": 4,
   "metadata": {},
   "outputs": [],
   "source": [
    "from quandry import *\n",
    "from quandry.evaluators import LlmClassifier\n",
    "from quandry.testsubjects import VanillaChatGPT"
   ]
  },
  {
   "cell_type": "markdown",
   "metadata": {},
   "source": [
    "### Create and conduct a basic test\n",
    "The following code shows the workflow for running a test."
   ]
  },
  {
   "cell_type": "code",
   "execution_count": 5,
   "metadata": {},
   "outputs": [
    {
     "name": "stdout",
     "output_type": "stream",
     "text": [
      "PASS because: The response correctly identifies Paris as the capital of France\n"
     ]
    }
   ],
   "source": [
    "# Configure the test subject and evaluator\n",
    "test = PromptTest(\n",
    "    test_subject=VanillaChatGPT(),\n",
    "    evaluator=LlmClassifier())\n",
    "\n",
    "# Configure a simple test case\n",
    "test_case = PromptTestCase(\n",
    "    prompt=\"What is the capital of France?\",\n",
    "    expect=\"The capital of France, Paris.\")\n",
    "\n",
    "# Run test case under test\n",
    "eval_result = test.test_one(test_case)\n",
    "print (f\"{eval_result.evaluation.name} because: {eval_result.explanation}\")"
   ]
  }
 ],
 "metadata": {
  "kernelspec": {
   "display_name": "quandry",
   "language": "python",
   "name": "python3"
  },
  "language_info": {
   "codemirror_mode": {
    "name": "ipython",
    "version": 3
   },
   "file_extension": ".py",
   "mimetype": "text/x-python",
   "name": "python",
   "nbconvert_exporter": "python",
   "pygments_lexer": "ipython3",
   "version": "3.11.9"
  }
 },
 "nbformat": 4,
 "nbformat_minor": 2
}
